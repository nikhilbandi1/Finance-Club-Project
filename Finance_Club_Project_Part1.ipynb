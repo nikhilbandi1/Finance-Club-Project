{
  "nbformat": 4,
  "nbformat_minor": 0,
  "metadata": {
    "accelerator": "GPU",
    "colab": {
      "name": "Finance Club Project Part1.ipynb",
      "provenance": [],
      "collapsed_sections": []
    },
    "kernelspec": {
      "display_name": "Python 3",
      "name": "python3"
    }
  },
  "cells": [
    {
      "cell_type": "markdown",
      "metadata": {
        "id": "lcTiwdzD8jpR"
      },
      "source": [
        "# **Extracting and Converting .txt to .csv**"
      ]
    },
    {
      "cell_type": "code",
      "metadata": {
        "id": "pG0wNULoyQTb",
        "colab": {
          "resources": {
            "http://localhost:8080/nbextensions/google.colab/files.js": {
              "data": "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",
              "ok": true,
              "headers": [
                [
                  "content-type",
                  "application/javascript"
                ]
              ],
              "status": 200,
              "status_text": ""
            }
          },
          "base_uri": "https://localhost:8080/",
          "height": 73
        },
        "outputId": "d78a1033-2243-46eb-f350-e06bf387db0b"
      },
      "source": [
        "from google.colab import files                                         #importing files in google colab\n",
        "uploaded = files.upload()"
      ],
      "execution_count": null,
      "outputs": [
        {
          "output_type": "display_data",
          "data": {
            "text/html": [
              "\n",
              "     <input type=\"file\" id=\"files-14c70044-f166-4588-a63a-dd1fb1ad7f97\" name=\"files[]\" multiple disabled\n",
              "        style=\"border:none\" />\n",
              "     <output id=\"result-14c70044-f166-4588-a63a-dd1fb1ad7f97\">\n",
              "      Upload widget is only available when the cell has been executed in the\n",
              "      current browser session. Please rerun this cell to enable.\n",
              "      </output>\n",
              "      <script src=\"/nbextensions/google.colab/files.js\"></script> "
            ],
            "text/plain": [
              "<IPython.core.display.HTML object>"
            ]
          },
          "metadata": {
            "tags": []
          }
        },
        {
          "output_type": "stream",
          "text": [
            "Saving NIFTY_SEP.txt to NIFTY_SEP.txt\n"
          ],
          "name": "stdout"
        }
      ]
    },
    {
      "cell_type": "code",
      "metadata": {
        "colab": {
          "base_uri": "https://localhost:8080/"
        },
        "id": "qtgHOfjHD1pY",
        "outputId": "24846009-cff6-4352-fdda-2b9bbe268a02"
      },
      "source": [
        "from google.colab import drive\n",
        "drive.mount('/content/drive')"
      ],
      "execution_count": 1,
      "outputs": [
        {
          "output_type": "stream",
          "text": [
            "Mounted at /content/drive\n"
          ],
          "name": "stdout"
        }
      ]
    },
    {
      "cell_type": "code",
      "metadata": {
        "id": "YgD23wBFyQEQ"
      },
      "source": [
        "import pandas as pd\n",
        "df=pd.read_csv('https://raw.githubusercontent.com/nikhilbandi1/Finance-Club-Project/main/NIFTY_SEP.txt'); #impoting dataset"
      ],
      "execution_count": 2,
      "outputs": []
    },
    {
      "cell_type": "code",
      "metadata": {
        "id": "WZR9WLxDyPxp",
        "colab": {
          "base_uri": "https://localhost:8080/",
          "height": 402
        },
        "outputId": "b1722100-bd17-4d87-98b2-2495fc61fc6c"
      },
      "source": [
        "df['time'] = pd.to_datetime(df['time'])                                     # to convert string Date time into Python Date time object.\n",
        "df"
      ],
      "execution_count": 3,
      "outputs": [
        {
          "output_type": "execute_result",
          "data": {
            "text/html": [
              "<div>\n",
              "<style scoped>\n",
              "    .dataframe tbody tr th:only-of-type {\n",
              "        vertical-align: middle;\n",
              "    }\n",
              "\n",
              "    .dataframe tbody tr th {\n",
              "        vertical-align: top;\n",
              "    }\n",
              "\n",
              "    .dataframe thead th {\n",
              "        text-align: right;\n",
              "    }\n",
              "</style>\n",
              "<table border=\"1\" class=\"dataframe\">\n",
              "  <thead>\n",
              "    <tr style=\"text-align: right;\">\n",
              "      <th></th>\n",
              "      <th>Name</th>\n",
              "      <th>date</th>\n",
              "      <th>time</th>\n",
              "      <th>Open</th>\n",
              "      <th>High</th>\n",
              "      <th>Low</th>\n",
              "      <th>Close*</th>\n",
              "      <th>Adj. close**</th>\n",
              "      <th>Volume\\t</th>\n",
              "    </tr>\n",
              "  </thead>\n",
              "  <tbody>\n",
              "    <tr>\n",
              "      <th>0</th>\n",
              "      <td>NIFTY</td>\n",
              "      <td>20200901</td>\n",
              "      <td>2021-05-13 09:08:00</td>\n",
              "      <td>11464.30</td>\n",
              "      <td>11464.30</td>\n",
              "      <td>11464.30</td>\n",
              "      <td>11464.30</td>\n",
              "      <td>0</td>\n",
              "      <td>0</td>\n",
              "    </tr>\n",
              "    <tr>\n",
              "      <th>1</th>\n",
              "      <td>NIFTY</td>\n",
              "      <td>20200901</td>\n",
              "      <td>2021-05-13 09:16:00</td>\n",
              "      <td>11464.85</td>\n",
              "      <td>11464.85</td>\n",
              "      <td>11376.45</td>\n",
              "      <td>11394.30</td>\n",
              "      <td>0</td>\n",
              "      <td>0</td>\n",
              "    </tr>\n",
              "    <tr>\n",
              "      <th>2</th>\n",
              "      <td>NIFTY</td>\n",
              "      <td>20200901</td>\n",
              "      <td>2021-05-13 09:17:00</td>\n",
              "      <td>11395.35</td>\n",
              "      <td>11402.80</td>\n",
              "      <td>11380.75</td>\n",
              "      <td>11402.80</td>\n",
              "      <td>0</td>\n",
              "      <td>0</td>\n",
              "    </tr>\n",
              "    <tr>\n",
              "      <th>3</th>\n",
              "      <td>NIFTY</td>\n",
              "      <td>20200901</td>\n",
              "      <td>2021-05-13 09:18:00</td>\n",
              "      <td>11403.50</td>\n",
              "      <td>11408.55</td>\n",
              "      <td>11390.25</td>\n",
              "      <td>11393.05</td>\n",
              "      <td>0</td>\n",
              "      <td>0</td>\n",
              "    </tr>\n",
              "    <tr>\n",
              "      <th>4</th>\n",
              "      <td>NIFTY</td>\n",
              "      <td>20200901</td>\n",
              "      <td>2021-05-13 09:19:00</td>\n",
              "      <td>11389.85</td>\n",
              "      <td>11389.85</td>\n",
              "      <td>11370.10</td>\n",
              "      <td>11380.80</td>\n",
              "      <td>0</td>\n",
              "      <td>0</td>\n",
              "    </tr>\n",
              "    <tr>\n",
              "      <th>...</th>\n",
              "      <td>...</td>\n",
              "      <td>...</td>\n",
              "      <td>...</td>\n",
              "      <td>...</td>\n",
              "      <td>...</td>\n",
              "      <td>...</td>\n",
              "      <td>...</td>\n",
              "      <td>...</td>\n",
              "      <td>...</td>\n",
              "    </tr>\n",
              "    <tr>\n",
              "      <th>8310</th>\n",
              "      <td>NIFTY</td>\n",
              "      <td>20200930</td>\n",
              "      <td>2021-05-13 15:28:00</td>\n",
              "      <td>11224.35</td>\n",
              "      <td>11225.40</td>\n",
              "      <td>11222.40</td>\n",
              "      <td>11223.00</td>\n",
              "      <td>0</td>\n",
              "      <td>0</td>\n",
              "    </tr>\n",
              "    <tr>\n",
              "      <th>8311</th>\n",
              "      <td>NIFTY</td>\n",
              "      <td>20200930</td>\n",
              "      <td>2021-05-13 15:29:00</td>\n",
              "      <td>11223.55</td>\n",
              "      <td>11223.70</td>\n",
              "      <td>11221.50</td>\n",
              "      <td>11223.10</td>\n",
              "      <td>0</td>\n",
              "      <td>0</td>\n",
              "    </tr>\n",
              "    <tr>\n",
              "      <th>8312</th>\n",
              "      <td>NIFTY</td>\n",
              "      <td>20200930</td>\n",
              "      <td>2021-05-13 15:30:00</td>\n",
              "      <td>11222.90</td>\n",
              "      <td>11228.55</td>\n",
              "      <td>11222.10</td>\n",
              "      <td>11226.30</td>\n",
              "      <td>0</td>\n",
              "      <td>0</td>\n",
              "    </tr>\n",
              "    <tr>\n",
              "      <th>8313</th>\n",
              "      <td>NIFTY</td>\n",
              "      <td>20200930</td>\n",
              "      <td>2021-05-13 15:31:00</td>\n",
              "      <td>11226.50</td>\n",
              "      <td>11226.50</td>\n",
              "      <td>11226.50</td>\n",
              "      <td>11226.50</td>\n",
              "      <td>0</td>\n",
              "      <td>0</td>\n",
              "    </tr>\n",
              "    <tr>\n",
              "      <th>8314</th>\n",
              "      <td>NIFTY</td>\n",
              "      <td>20200930</td>\n",
              "      <td>2021-05-13 15:35:00</td>\n",
              "      <td>11228.40</td>\n",
              "      <td>11247.55</td>\n",
              "      <td>11228.40</td>\n",
              "      <td>11247.55</td>\n",
              "      <td>0</td>\n",
              "      <td>0</td>\n",
              "    </tr>\n",
              "  </tbody>\n",
              "</table>\n",
              "<p>8315 rows × 9 columns</p>\n",
              "</div>"
            ],
            "text/plain": [
              "       Name      date                time  ...    Close*  Adj. close**  Volume\\t\n",
              "0     NIFTY  20200901 2021-05-13 09:08:00  ...  11464.30             0         0\n",
              "1     NIFTY  20200901 2021-05-13 09:16:00  ...  11394.30             0         0\n",
              "2     NIFTY  20200901 2021-05-13 09:17:00  ...  11402.80             0         0\n",
              "3     NIFTY  20200901 2021-05-13 09:18:00  ...  11393.05             0         0\n",
              "4     NIFTY  20200901 2021-05-13 09:19:00  ...  11380.80             0         0\n",
              "...     ...       ...                 ...  ...       ...           ...       ...\n",
              "8310  NIFTY  20200930 2021-05-13 15:28:00  ...  11223.00             0         0\n",
              "8311  NIFTY  20200930 2021-05-13 15:29:00  ...  11223.10             0         0\n",
              "8312  NIFTY  20200930 2021-05-13 15:30:00  ...  11226.30             0         0\n",
              "8313  NIFTY  20200930 2021-05-13 15:31:00  ...  11226.50             0         0\n",
              "8314  NIFTY  20200930 2021-05-13 15:35:00  ...  11247.55             0         0\n",
              "\n",
              "[8315 rows x 9 columns]"
            ]
          },
          "metadata": {
            "tags": []
          },
          "execution_count": 3
        }
      ]
    },
    {
      "cell_type": "markdown",
      "metadata": {
        "id": "j-lu-VMx9UDa"
      },
      "source": [
        "# **Converting the Intraday Data to 30 min Timespan**\n",
        "\n",
        "1.   Total 13 data for each day will be created.\n",
        "2.   Total 22 business days are in our dataset. \n",
        "3.   So 22*13 =286 rows are there in Data Frame\n"
      ]
    },
    {
      "cell_type": "code",
      "metadata": {
        "id": "7EU2GWYmyo1E",
        "colab": {
          "base_uri": "https://localhost:8080/",
          "height": 402
        },
        "outputId": "36e63bb9-a264-4e1c-dc70-0d8ad2703ba0"
      },
      "source": [
        "df5 = pd.DataFrame()                     # df5 is the final data frame \n",
        "for i in range (0,30):                   # loop all over the month \n",
        "  present_date='2020090'+str(i+1)        # Condition if the date is greater or less than 10 sept    \n",
        "  if(int(present_date)<202009010):\n",
        "    present_date='2020090'+str(i+1)\n",
        "  else:\n",
        "    present_date='202009'+str(i+1)\n",
        "                                         # present date is the string\n",
        "  \n",
        "  #print (int(present_date))\n",
        "  if (int(present_date) in df.values) :       #if condition present date matches with the dates on which market opens\n",
        "\n",
        "    df4 = pd.DataFrame()\n",
        "    for j in range (9,16):                    # 9 to 16 for time \n",
        "\n",
        "      if (j<15):                              # if time is less than 15\n",
        "        start_time1 = str(j)+':05'\n",
        "        end_time1= str(j)+':35'\n",
        "        mask = (df['time'] > start_time1) & (df['time'] <= end_time1) & (df['date']==int(present_date))       # taking all the values of the interval of 30 minutes for each case \n",
        "        df1 = df.loc[mask]\n",
        "        start_time2=str(j)+':35'\n",
        "        end_time2=str(j+1)+':05'\n",
        "        mask = (df['time'] > start_time2) & (df['time'] <= end_time2)& (df['date']==int(present_date))    \n",
        "        df2 = df.loc[mask]\n",
        "        cols = ['Date','start_time','end_time','Open','High','Low','Close']                                   # creating new column in new data frame df3\n",
        "        lst = []\n",
        "        #print (df1)\n",
        "        #print (df2)\n",
        "    \n",
        "        lst.append([int(present_date),start_time1,end_time1,df1['Open'].iloc[0],df1['High'].max(),df1['Low'].min(),df1['Close*'].iloc[-1]])\n",
        "      \n",
        "        lst.append([int(present_date),start_time2,end_time2,df2['Open'].iloc[0],df2['High'].max(),df2['Low'].min(),df2['Close*'].iloc[-1]])           \n",
        "        df3 = pd.DataFrame(lst, columns=cols)\n",
        "        df3\n",
        "        #print(df3)\n",
        "        df4 = df4.append(df3)                                                                                # appending df3 in df4 as loops run every time\n",
        "\n",
        "    \n",
        "      \n",
        "\n",
        "       \n",
        "      else:                                                                                                  # special case for 15:05 to 15:35 \n",
        "        start_time1 = str(j)+':05'\n",
        "        end_time1= str(j)+':35'\n",
        "        mask = (df['time'] > start_time1) & (df['time'] <= end_time1) & (df['date']==int(present_date))\n",
        "        df1 = df.loc[mask]\n",
        "        cols = ['Date','start_time','end_time','Open','High','Low','Close']        \n",
        "        lst = []\n",
        "        #print (df1)\n",
        "        #print (df2)\n",
        "    \n",
        "        lst.append([int(present_date),start_time1,end_time1,df1['Open'].iloc[0],df1['High'].max(),df1['Low'].min(),df1['Close*'].iloc[-1]])\n",
        "        df3 = pd.DataFrame(lst, columns=cols)\n",
        "        df3\n",
        "        #print(df3)\n",
        "        df4 = df4.append(df3)\n",
        "  else:\n",
        "    continue\n",
        "      \n",
        "  df5=df5.append(df4)                                                                                       # final data frame df5 which we need\n",
        " \n",
        "df5"
      ],
      "execution_count": 4,
      "outputs": [
        {
          "output_type": "execute_result",
          "data": {
            "text/html": [
              "<div>\n",
              "<style scoped>\n",
              "    .dataframe tbody tr th:only-of-type {\n",
              "        vertical-align: middle;\n",
              "    }\n",
              "\n",
              "    .dataframe tbody tr th {\n",
              "        vertical-align: top;\n",
              "    }\n",
              "\n",
              "    .dataframe thead th {\n",
              "        text-align: right;\n",
              "    }\n",
              "</style>\n",
              "<table border=\"1\" class=\"dataframe\">\n",
              "  <thead>\n",
              "    <tr style=\"text-align: right;\">\n",
              "      <th></th>\n",
              "      <th>Date</th>\n",
              "      <th>start_time</th>\n",
              "      <th>end_time</th>\n",
              "      <th>Open</th>\n",
              "      <th>High</th>\n",
              "      <th>Low</th>\n",
              "      <th>Close</th>\n",
              "    </tr>\n",
              "  </thead>\n",
              "  <tbody>\n",
              "    <tr>\n",
              "      <th>0</th>\n",
              "      <td>20200901</td>\n",
              "      <td>9:05</td>\n",
              "      <td>9:35</td>\n",
              "      <td>11464.30</td>\n",
              "      <td>11510.00</td>\n",
              "      <td>11370.10</td>\n",
              "      <td>11496.65</td>\n",
              "    </tr>\n",
              "    <tr>\n",
              "      <th>1</th>\n",
              "      <td>20200901</td>\n",
              "      <td>9:35</td>\n",
              "      <td>10:05</td>\n",
              "      <td>11496.85</td>\n",
              "      <td>11507.30</td>\n",
              "      <td>11366.90</td>\n",
              "      <td>11405.80</td>\n",
              "    </tr>\n",
              "    <tr>\n",
              "      <th>0</th>\n",
              "      <td>20200901</td>\n",
              "      <td>10:05</td>\n",
              "      <td>10:35</td>\n",
              "      <td>11404.70</td>\n",
              "      <td>11452.95</td>\n",
              "      <td>11394.05</td>\n",
              "      <td>11436.65</td>\n",
              "    </tr>\n",
              "    <tr>\n",
              "      <th>1</th>\n",
              "      <td>20200901</td>\n",
              "      <td>10:35</td>\n",
              "      <td>11:05</td>\n",
              "      <td>11435.90</td>\n",
              "      <td>11464.90</td>\n",
              "      <td>11426.45</td>\n",
              "      <td>11447.50</td>\n",
              "    </tr>\n",
              "    <tr>\n",
              "      <th>0</th>\n",
              "      <td>20200901</td>\n",
              "      <td>11:05</td>\n",
              "      <td>11:35</td>\n",
              "      <td>11446.95</td>\n",
              "      <td>11457.55</td>\n",
              "      <td>11391.10</td>\n",
              "      <td>11421.25</td>\n",
              "    </tr>\n",
              "    <tr>\n",
              "      <th>...</th>\n",
              "      <td>...</td>\n",
              "      <td>...</td>\n",
              "      <td>...</td>\n",
              "      <td>...</td>\n",
              "      <td>...</td>\n",
              "      <td>...</td>\n",
              "      <td>...</td>\n",
              "    </tr>\n",
              "    <tr>\n",
              "      <th>0</th>\n",
              "      <td>20200930</td>\n",
              "      <td>13:05</td>\n",
              "      <td>13:35</td>\n",
              "      <td>11274.35</td>\n",
              "      <td>11275.45</td>\n",
              "      <td>11241.80</td>\n",
              "      <td>11263.70</td>\n",
              "    </tr>\n",
              "    <tr>\n",
              "      <th>1</th>\n",
              "      <td>20200930</td>\n",
              "      <td>13:35</td>\n",
              "      <td>14:05</td>\n",
              "      <td>11264.55</td>\n",
              "      <td>11280.15</td>\n",
              "      <td>11252.55</td>\n",
              "      <td>11274.85</td>\n",
              "    </tr>\n",
              "    <tr>\n",
              "      <th>0</th>\n",
              "      <td>20200930</td>\n",
              "      <td>14:05</td>\n",
              "      <td>14:35</td>\n",
              "      <td>11274.65</td>\n",
              "      <td>11295.40</td>\n",
              "      <td>11267.15</td>\n",
              "      <td>11285.55</td>\n",
              "    </tr>\n",
              "    <tr>\n",
              "      <th>1</th>\n",
              "      <td>20200930</td>\n",
              "      <td>14:35</td>\n",
              "      <td>15:05</td>\n",
              "      <td>11286.30</td>\n",
              "      <td>11288.10</td>\n",
              "      <td>11247.05</td>\n",
              "      <td>11262.60</td>\n",
              "    </tr>\n",
              "    <tr>\n",
              "      <th>0</th>\n",
              "      <td>20200930</td>\n",
              "      <td>15:05</td>\n",
              "      <td>15:35</td>\n",
              "      <td>11263.10</td>\n",
              "      <td>11267.70</td>\n",
              "      <td>11221.50</td>\n",
              "      <td>11247.55</td>\n",
              "    </tr>\n",
              "  </tbody>\n",
              "</table>\n",
              "<p>286 rows × 7 columns</p>\n",
              "</div>"
            ],
            "text/plain": [
              "        Date start_time end_time      Open      High       Low     Close\n",
              "0   20200901       9:05     9:35  11464.30  11510.00  11370.10  11496.65\n",
              "1   20200901       9:35    10:05  11496.85  11507.30  11366.90  11405.80\n",
              "0   20200901      10:05    10:35  11404.70  11452.95  11394.05  11436.65\n",
              "1   20200901      10:35    11:05  11435.90  11464.90  11426.45  11447.50\n",
              "0   20200901      11:05    11:35  11446.95  11457.55  11391.10  11421.25\n",
              "..       ...        ...      ...       ...       ...       ...       ...\n",
              "0   20200930      13:05    13:35  11274.35  11275.45  11241.80  11263.70\n",
              "1   20200930      13:35    14:05  11264.55  11280.15  11252.55  11274.85\n",
              "0   20200930      14:05    14:35  11274.65  11295.40  11267.15  11285.55\n",
              "1   20200930      14:35    15:05  11286.30  11288.10  11247.05  11262.60\n",
              "0   20200930      15:05    15:35  11263.10  11267.70  11221.50  11247.55\n",
              "\n",
              "[286 rows x 7 columns]"
            ]
          },
          "metadata": {
            "tags": []
          },
          "execution_count": 4
        }
      ]
    },
    {
      "cell_type": "markdown",
      "metadata": {
        "id": "4puokIss-XEK"
      },
      "source": [
        "# **Downloading the Final Dataframe**"
      ]
    },
    {
      "cell_type": "code",
      "metadata": {
        "id": "ilHDsvugy0d4",
        "colab": {
          "base_uri": "https://localhost:8080/",
          "height": 17
        },
        "outputId": "bb1bd511-4a7f-42e0-a67e-8b2acc12e5c4"
      },
      "source": [
        "from google.colab import files\n",
        "df5.to_csv('Final_candlestick.csv',index=False)          #converting the final dataframe df5 to csv file\n",
        "files.download('Final_candlestick.csv')                  # downloading the file as \"Final_candlestick.csv\" "
      ],
      "execution_count": 5,
      "outputs": [
        {
          "output_type": "display_data",
          "data": {
            "application/javascript": [
              "\n",
              "    async function download(id, filename, size) {\n",
              "      if (!google.colab.kernel.accessAllowed) {\n",
              "        return;\n",
              "      }\n",
              "      const div = document.createElement('div');\n",
              "      const label = document.createElement('label');\n",
              "      label.textContent = `Downloading \"${filename}\": `;\n",
              "      div.appendChild(label);\n",
              "      const progress = document.createElement('progress');\n",
              "      progress.max = size;\n",
              "      div.appendChild(progress);\n",
              "      document.body.appendChild(div);\n",
              "\n",
              "      const buffers = [];\n",
              "      let downloaded = 0;\n",
              "\n",
              "      const channel = await google.colab.kernel.comms.open(id);\n",
              "      // Send a message to notify the kernel that we're ready.\n",
              "      channel.send({})\n",
              "\n",
              "      for await (const message of channel.messages) {\n",
              "        // Send a message to notify the kernel that we're ready.\n",
              "        channel.send({})\n",
              "        if (message.buffers) {\n",
              "          for (const buffer of message.buffers) {\n",
              "            buffers.push(buffer);\n",
              "            downloaded += buffer.byteLength;\n",
              "            progress.value = downloaded;\n",
              "          }\n",
              "        }\n",
              "      }\n",
              "      const blob = new Blob(buffers, {type: 'application/binary'});\n",
              "      const a = document.createElement('a');\n",
              "      a.href = window.URL.createObjectURL(blob);\n",
              "      a.download = filename;\n",
              "      div.appendChild(a);\n",
              "      a.click();\n",
              "      div.remove();\n",
              "    }\n",
              "  "
            ],
            "text/plain": [
              "<IPython.core.display.Javascript object>"
            ]
          },
          "metadata": {
            "tags": []
          }
        },
        {
          "output_type": "display_data",
          "data": {
            "application/javascript": [
              "download(\"download_d5610c58-c8e7-4c04-84c8-2ada09ee4d66\", \"Final_candlestick.csv\", 15687)"
            ],
            "text/plain": [
              "<IPython.core.display.Javascript object>"
            ]
          },
          "metadata": {
            "tags": []
          }
        }
      ]
    }
  ]
}
